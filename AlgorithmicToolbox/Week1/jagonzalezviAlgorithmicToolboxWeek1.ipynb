{
  "nbformat": 4,
  "nbformat_minor": 0,
  "metadata": {
    "colab": {
      "name": "jagonzalezviAlgorithmicToolboxWeek1.ipynb",
      "provenance": [],
      "collapsed_sections": [
        "WbDV-4rHVcMB",
        "IeZ3kTjpYmR9"
      ],
      "toc_visible": true
    },
    "kernelspec": {
      "name": "python3",
      "display_name": "Python 3"
    },
    "language_info": {
      "name": "python"
    }
  },
  "cells": [
    {
      "cell_type": "markdown",
      "metadata": {
        "id": "uvP-mOubW_5F"
      },
      "source": [
        "# II Solving The Maximum Pairwise Product Programming Challenge in C++"
      ]
    },
    {
      "cell_type": "markdown",
      "metadata": {
        "id": "C12yoFR6Xonl"
      },
      "source": [
        "## C++"
      ]
    },
    {
      "cell_type": "markdown",
      "metadata": {
        "id": "WbDV-4rHVcMB"
      },
      "source": [
        "### **a) Brute force solution**"
      ]
    },
    {
      "cell_type": "code",
      "metadata": {
        "colab": {
          "base_uri": "https://localhost:8080/"
        },
        "id": "YL4qJX3tXxdd",
        "outputId": "bb9b6c05-4d08-4299-e420-6467cfbeb8db"
      },
      "source": [
        "%%writefile max_pairwise_product1.cpp\n",
        "#include <iostream>\n",
        "#include <vector>\n",
        "#include <algorithm>\n",
        "\n",
        "int MaxPairwiseProduct(const std::vector<int>& numbers) {\n",
        "    int max_product = 0;\n",
        "    int n = numbers.size();\n",
        "\n",
        "    for (int first = 0; first < n; ++first) {\n",
        "        for (int second = first + 1; second < n; ++second) {\n",
        "            max_product = std::max(max_product,\n",
        "                numbers[first] * numbers[second]);\n",
        "        }\n",
        "    }\n",
        "\n",
        "    return max_product;\n",
        "}\n",
        "\n",
        "int main() {\n",
        "    int n;\n",
        "    std::cin >> n;\n",
        "    std::vector<int> numbers(n);\n",
        "    for (int i = 0; i < n; ++i) {\n",
        "        std::cin >> numbers[i];\n",
        "    }\n",
        "\n",
        "    std::cout << MaxPairwiseProduct(numbers) << \"\\n\";\n",
        "    return 0;\n",
        "}\n"
      ],
      "execution_count": 7,
      "outputs": [
        {
          "output_type": "stream",
          "text": [
            "Writing max_pairwise_product1.cpp\n"
          ],
          "name": "stdout"
        }
      ]
    },
    {
      "cell_type": "code",
      "metadata": {
        "colab": {
          "base_uri": "https://localhost:8080/"
        },
        "id": "KGxaEjvWX__O",
        "outputId": "7d50a4f4-22e4-4ef6-8266-8575656470ae"
      },
      "source": [
        "!g++ max_pairwise_product1.cpp -o max_pairwise_product1\n",
        "!./max_pairwise_product1"
      ],
      "execution_count": 8,
      "outputs": [
        {
          "output_type": "stream",
          "text": [
            "2\n",
            "1\n",
            "2\n",
            "2\n"
          ],
          "name": "stdout"
        }
      ]
    },
    {
      "cell_type": "markdown",
      "metadata": {
        "id": "IeZ3kTjpYmR9"
      },
      "source": [
        "### **b) Integer Overflow**"
      ]
    },
    {
      "cell_type": "code",
      "metadata": {
        "colab": {
          "base_uri": "https://localhost:8080/"
        },
        "id": "LQNlZqaqYt7U",
        "outputId": "47a992d8-064f-49f6-c8e0-8fdd75a1ba54"
      },
      "source": [
        "%%writefile input1.txt\n",
        "5\n",
        "1 3 200000 9 200000 23"
      ],
      "execution_count": 9,
      "outputs": [
        {
          "output_type": "stream",
          "text": [
            "Writing input1.txt\n"
          ],
          "name": "stdout"
        }
      ]
    },
    {
      "cell_type": "code",
      "metadata": {
        "colab": {
          "base_uri": "https://localhost:8080/"
        },
        "id": "2Wad2VZUZDxR",
        "outputId": "7630a0c1-99b9-461a-e00a-32c56634f495"
      },
      "source": [
        "!./max_pairwise_product1 < input1.txt"
      ],
      "execution_count": 10,
      "outputs": [
        {
          "output_type": "stream",
          "text": [
            "1345294336\n"
          ],
          "name": "stdout"
        }
      ]
    },
    {
      "cell_type": "markdown",
      "metadata": {
        "id": "3v2xzpcEV_O3"
      },
      "source": [
        "### **c) Long long fix**"
      ]
    },
    {
      "cell_type": "code",
      "metadata": {
        "colab": {
          "base_uri": "https://localhost:8080/"
        },
        "id": "MPcmsxiQZSfE",
        "outputId": "af0d52fc-ee79-4ca7-dfb5-74791654a478"
      },
      "source": [
        "%%writefile max_pairwise_product2.cpp\n",
        "#include <iostream>\n",
        "#include <vector>\n",
        "#include <algorithm>\n",
        "\n",
        "long long MaxPairwiseProduct(const std::vector<int>& numbers) {\n",
        "    long long max_product = 0LL;\n",
        "\t  long long aux_product = 0LL;\n",
        "    int n = numbers.size();\n",
        "\n",
        "    for (int first = 0; first < n; ++first) {\n",
        "        for (int second = first + 1; second < n; ++second) {\n",
        "\t\t\t       aux_product =  (long long) numbers[first] * numbers[second];\n",
        "            if ( max_product < aux_product)  {\n",
        "\t\t\t\t        max_product = aux_product;\n",
        "             }\n",
        "        }\n",
        "    }\n",
        "\n",
        "    return max_product;\n",
        "}\n",
        "\n",
        "int main() {\n",
        "    int n;\n",
        "    std::cin >> n;\n",
        "    std::vector<int> numbers(n);\n",
        "    for (int i = 0; i < n; ++i) {\n",
        "        std::cin >> numbers[i];\n",
        "    }\n",
        "\n",
        "    std::cout << MaxPairwiseProduct(numbers) << \"\\n\";\n",
        "    return 0;\n",
        "}\n"
      ],
      "execution_count": 11,
      "outputs": [
        {
          "output_type": "stream",
          "text": [
            "Writing max_pairwise_product2.cpp\n"
          ],
          "name": "stdout"
        }
      ]
    },
    {
      "cell_type": "code",
      "metadata": {
        "colab": {
          "base_uri": "https://localhost:8080/"
        },
        "id": "I5pCeOG1Zm7s",
        "outputId": "e2281e05-e45e-4808-aa1d-7dee6fbfe997"
      },
      "source": [
        "!g++ max_pairwise_product2.cpp -o max_pairwise_product2\n",
        "!./max_pairwise_product2 < input1.txt"
      ],
      "execution_count": 12,
      "outputs": [
        {
          "output_type": "stream",
          "text": [
            "40000000000\n"
          ],
          "name": "stdout"
        }
      ]
    },
    {
      "cell_type": "markdown",
      "metadata": {
        "id": "9z9yr5QkeyJF"
      },
      "source": [
        "### **d) Generate random number input file** "
      ]
    },
    {
      "cell_type": "code",
      "metadata": {
        "id": "oLiMjbAIfPlX",
        "colab": {
          "base_uri": "https://localhost:8080/"
        },
        "outputId": "6ff41b88-bcf3-44d3-fc2d-82a65ae73018"
      },
      "source": [
        "%%writefile gen_ran.cpp\n",
        "#include <iostream>\n",
        "#include <vector>\n",
        "#include <algorithm>\n",
        "#include <iostream>\n",
        "#include <fstream>\n",
        "using namespace std;\n",
        "\n",
        "int main () {\n",
        "  int n = 200000;\n",
        "  ofstream myfile;\n",
        "  myfile.open (\"stress_case.txt\");\n",
        "  myfile << n << '\\n';\n",
        "  for(int i = 0; i<(n-2); i++){\n",
        "        myfile << rand() % n << ' ';\n",
        "  }\n",
        "  myfile << n << ' ' << n;\n",
        "  myfile.close();\n",
        "  return 0;\n",
        "}"
      ],
      "execution_count": 2,
      "outputs": [
        {
          "output_type": "stream",
          "text": [
            "Writing gen_ran.cpp\n"
          ],
          "name": "stdout"
        }
      ]
    },
    {
      "cell_type": "code",
      "metadata": {
        "id": "r-sUa9KkyVa0"
      },
      "source": [
        "!g++ gen_ran.cpp -o gen_ran\n",
        "!./gen_ran"
      ],
      "execution_count": 4,
      "outputs": []
    },
    {
      "cell_type": "markdown",
      "metadata": {
        "id": "sc9nOLQrfTm0"
      },
      "source": [
        "### **e) Time test for previous solution(inefficient)**"
      ]
    },
    {
      "cell_type": "code",
      "metadata": {
        "colab": {
          "base_uri": "https://localhost:8080/"
        },
        "id": "KmLEA9cnXKVG",
        "outputId": "f881da85-b019-4e0e-c691-63db437ebe37"
      },
      "source": [
        "!time ./max_pairwise_product2 < stress_case.txt"
      ],
      "execution_count": 13,
      "outputs": [
        {
          "output_type": "stream",
          "text": [
            "40000000000\n",
            "\n",
            "real\t2m7.311s\n",
            "user\t2m7.164s\n",
            "sys\t0m0.015s\n"
          ],
          "name": "stdout"
        }
      ]
    },
    {
      "cell_type": "markdown",
      "metadata": {
        "id": "7LzSl9r6YQlK"
      },
      "source": [
        "### **f) Efficient solution**"
      ]
    },
    {
      "cell_type": "markdown",
      "metadata": {
        "id": "IBx9PQUjYcwM"
      },
      "source": [
        "####C++ Code"
      ]
    },
    {
      "cell_type": "code",
      "metadata": {
        "colab": {
          "base_uri": "https://localhost:8080/"
        },
        "id": "JDGePG2h0tmC",
        "outputId": "4500a449-d8cb-485a-e801-a8466e505ef5"
      },
      "source": [
        "%%writefile efficient_pw.cpp\n",
        "#include <iostream>\n",
        "#include <vector>\n",
        "#include <fstream>\n",
        "using namespace std;\n",
        "\n",
        "int main () {\n",
        "    int n;\n",
        "    cin >> n;\n",
        "    vector<int> numbers(n);\n",
        "    for (int i = 0; i < n; ++i) {\n",
        "        std::cin >> numbers[i];\n",
        "    }\n",
        "    int index = 1;\n",
        "    for(int i =2; i<n; i++){\n",
        "        if(numbers[i]> numbers[index]){\n",
        "            index = i;\n",
        "        }\n",
        "        int temp = numbers[index];\n",
        "        numbers[index] = numbers[n];\n",
        "        numbers[n] = temp;\n",
        "    }\n",
        "    for(int i =2; i<(n-1); i++){\n",
        "        if(numbers[i]> numbers[index]){\n",
        "            index = i;\n",
        "        }\n",
        "        int temp = numbers[index];\n",
        "        numbers[index] = numbers[n-1];\n",
        "        numbers[n-1] = temp;\n",
        "    }\n",
        "    long long ans = (long long)numbers[n]*numbers[n-1];\n",
        "    cout  << \"The the maximum pairwise product is: \"<< ans;\n",
        "}"
      ],
      "execution_count": 14,
      "outputs": [
        {
          "output_type": "stream",
          "text": [
            "Writing efficient_pw.cpp\n"
          ],
          "name": "stdout"
        }
      ]
    },
    {
      "cell_type": "markdown",
      "metadata": {
        "id": "gD2c-OR9YwCk"
      },
      "source": [
        "Execution and time"
      ]
    },
    {
      "cell_type": "code",
      "metadata": {
        "id": "9wjd140R63ND",
        "colab": {
          "base_uri": "https://localhost:8080/"
        },
        "outputId": "5a5407c9-e28b-4fd4-a2d0-73ab99b678bc"
      },
      "source": [
        "!g++ efficient_pw.cpp -o efficient_pw\n",
        "!time ./efficient_pw < stress_case.txt"
      ],
      "execution_count": 15,
      "outputs": [
        {
          "output_type": "stream",
          "text": [
            "The the maximum pairwise product is: 40000000000\n",
            "real\t0m0.067s\n",
            "user\t0m0.063s\n",
            "sys\t0m0.004s\n"
          ],
          "name": "stdout"
        }
      ]
    },
    {
      "cell_type": "markdown",
      "metadata": {
        "id": "rydCU4bFfrhG"
      },
      "source": [
        "####Python"
      ]
    },
    {
      "cell_type": "code",
      "metadata": {
        "id": "aorKYfCD8RJ3"
      },
      "source": [
        "def maxpair(numeros):\n",
        "  indice = 0\n",
        "  n = len(numeros)-1\n",
        "  for i in range (1,n):\n",
        "    if(numeros[i] > numeros[indice]):\n",
        "      indice = i\n",
        "  numeros[indice], numeros[n] = numeros[n], numeros[indice]\n",
        "  indice = 0\n",
        "  for i in range (1,n):\n",
        "    if (numeros[i]> numeros[indice]):\n",
        "       indice = i\n",
        "  numeros [indice],numeros[n-1] = numeros[n-1], numeros[indice]\n",
        "  return numeros[n]*numeros[n-1]\n",
        "\n",
        "with open(\"stress_case.txt\", \"r\") as file1:\n",
        "  arr = list(map(int, file1.readlines()[1].split()))"
      ],
      "execution_count": 16,
      "outputs": []
    },
    {
      "cell_type": "markdown",
      "metadata": {
        "id": "j4YktYBS1mqY"
      },
      "source": [
        "Execution and time"
      ]
    },
    {
      "cell_type": "code",
      "metadata": {
        "colab": {
          "base_uri": "https://localhost:8080/"
        },
        "id": "SuuqbUAt1n5L",
        "outputId": "fb8ae64f-666a-4f39-831d-6a4fae65bac4"
      },
      "source": [
        "import timeit as tt\n",
        "start = tt.default_timer()\n",
        "print( \"The the maximum pairwise product is: \", maxpair(arr))\n",
        "finish = tt.default_timer()\n",
        "print(\"Time : \", finish-start, \"s\")"
      ],
      "execution_count": 17,
      "outputs": [
        {
          "output_type": "stream",
          "text": [
            "The the maximum pairwise product is:  40000000000\n",
            "Time :  0.041711239999926875 s\n"
          ],
          "name": "stdout"
        }
      ]
    },
    {
      "cell_type": "markdown",
      "metadata": {
        "id": "5nH1hK5uZ0IS"
      },
      "source": [
        "### **g) No storage solution**"
      ]
    },
    {
      "cell_type": "markdown",
      "metadata": {
        "id": "CJIra0LTaJhB"
      },
      "source": [
        "####C++"
      ]
    },
    {
      "cell_type": "code",
      "metadata": {
        "colab": {
          "base_uri": "https://localhost:8080/"
        },
        "id": "ojWOJ8H5Yj4p",
        "outputId": "b9a69ec4-d5dd-4d39-a0e3-55fc057d26c1"
      },
      "source": [
        "%%writefile efficient.cpp\n",
        "#include <iostream>\n",
        "using namespace std;\n",
        "int main () {\n",
        "    int n;\n",
        "    cin >> n;\n",
        "    int temp, max1, max2;\n",
        "    cin >> max1 >> max2;\n",
        "    for (int i = 2; i < n; ++i) {\n",
        "        cin >> temp;\n",
        "        if(temp>max1){\n",
        "            if(max1>max2)max2=max1;\n",
        "            max1 = temp;\n",
        "            continue;\n",
        "        }\n",
        "        if(temp>max2)max2=temp;\n",
        "    }\n",
        "    long long ans = (long long) max1*max2;\n",
        "    cout << \"The the maximum pairwise product is: \"<< ans;\n",
        "}"
      ],
      "execution_count": 18,
      "outputs": [
        {
          "output_type": "stream",
          "text": [
            "Writing efficient.cpp\n"
          ],
          "name": "stdout"
        }
      ]
    },
    {
      "cell_type": "markdown",
      "metadata": {
        "id": "BdUopu6VaFdx"
      },
      "source": [
        "Execution and time"
      ]
    },
    {
      "cell_type": "code",
      "metadata": {
        "colab": {
          "base_uri": "https://localhost:8080/"
        },
        "id": "3U3WBO1nZ_fp",
        "outputId": "4721c6f3-26a4-4b32-9165-13a619ffe516"
      },
      "source": [
        "!g++ efficient.cpp -o efficient\n",
        "!time ./efficient < stress_case.txt"
      ],
      "execution_count": 19,
      "outputs": [
        {
          "output_type": "stream",
          "text": [
            "The the maximum pairwise product is: 40000000000\n",
            "real\t0m0.063s\n",
            "user\t0m0.058s\n",
            "sys\t0m0.004s\n"
          ],
          "name": "stdout"
        }
      ]
    },
    {
      "cell_type": "markdown",
      "metadata": {
        "id": "DBTmQ3UraOyB"
      },
      "source": [
        "####Python"
      ]
    },
    {
      "cell_type": "code",
      "metadata": {
        "colab": {
          "base_uri": "https://localhost:8080/"
        },
        "id": "X2gtJ159aOIj",
        "outputId": "5284c021-6c2e-4076-e16f-04cc32594a30"
      },
      "source": [
        "%%writefile efficient.py\n",
        "import timeit as tt\n",
        "start = tt.default_timer()\n",
        "\n",
        "with open(\"stress_case.txt\", \"r\") as file1:\n",
        "  arr = list(map(int, file1.readlines()[1].split()))\n",
        "\n",
        "m1, m2 = 0, 0\n",
        "for i in range(0,len(arr)):\n",
        "  if arr[i] > m1:\n",
        "    if m1>m2:\n",
        "      m2=m1\n",
        "    m1=arr[i]\n",
        "    continue\n",
        "  if arr[i]>m2:\n",
        "    m2=arr[i]\n",
        "finish = tt.default_timer()\n",
        "print( \"The the maximum pairwise product is: \", m1*m2)\n",
        "print(\"Time : \", finish-start, \"s\")"
      ],
      "execution_count": 36,
      "outputs": [
        {
          "output_type": "stream",
          "text": [
            "Overwriting efficient.py\n"
          ],
          "name": "stdout"
        }
      ]
    },
    {
      "cell_type": "code",
      "metadata": {
        "colab": {
          "base_uri": "https://localhost:8080/"
        },
        "id": "hr9t-Zdad1fV",
        "outputId": "02c7676c-6107-4aa4-e0ab-a4fdada3be06"
      },
      "source": [
        "!python ./efficient.py"
      ],
      "execution_count": 37,
      "outputs": [
        {
          "output_type": "stream",
          "text": [
            "The the maximum pairwise product is:  40000000000\n",
            "Time :  0.10139670700027636 s\n"
          ],
          "name": "stdout"
        }
      ]
    }
  ]
}